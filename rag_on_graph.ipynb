{
 "cells": [
  {
   "cell_type": "code",
   "execution_count": 1,
   "metadata": {},
   "outputs": [],
   "source": [
    "import os\n",
    "from pprint import pprint\n",
    "\n",
    "os.environ[\"NEO4J_URI\"] = \"bolt://localhost:7687\"\n",
    "os.environ[\"NEO4J_USERNAME\"] = \"neo4j\"\n",
    "os.environ[\"NEO4J_PASSWORD\"] = \"Neo4j@123\""
   ]
  },
  {
   "cell_type": "code",
   "execution_count": 2,
   "metadata": {},
   "outputs": [
    {
     "data": {
      "text/plain": [
       "'Node properties are the following:\\nDetections {unique_vendor_detection_id: STRING, vendor_id: STRING, type: STRING, severity: STRING, status: STRING, first_found_datetime: STRING, last_found_datetime: STRING, detection_id: STRING},Qualys_Knowledge_Base {vulnerability_type: STRING, severity_level: STRING, title: STRING, category: STRING, publised_datetime: STRING, patchable: STRING, diagnosis: STRING, pci_flag: STRING, consequences: STRING, solution: STRING, qualys_id: STRING, cve_ids: STRING},Hosts {ip: STRING, os: STRING, hostname: STRING, domain: STRING, netbios: STRING, last_scan_datetime: STRING, asset_id: STRING},Assets {ip: STRING, os: STRING, hostname: STRING, domain: STRING, netbios: STRING, last_scan_datetime: STRING, asset_id: STRING},CVE_DATA {date_published: STRING, description: STRING, cve_id: STRING, version: STRING, baseScore: STRING, vectorString: STRING, attackComplexity: STRING, attackVector: STRING, availabilityImpact: STRING, baseSeverity: STRING, confidentialityImpact: STRING, integrityImpact: STRING, privilegesRequired: STRING, scope: STRING, userInteraction: STRING, exploitCodeMaturity: STRING, remediationLevel: STRING, reportConfidence: STRING, temporalScore: STRING, temporalSeverity: STRING, availabilityRequirement: STRING, confidentialityRequirement: STRING, environmentalScore: STRING, environmentalSeverity: STRING, integrityRequirement: STRING, modifiedAttackComplexity: STRING, modifiedAttackVector: STRING, modifiedAvailabilityImpact: STRING, modifiedConfidentialityImpact: STRING, modifiedIntegrityImpact: STRING, modifiedPrivilegesRequired: STRING, modifiedScope: STRING, modifiedUserInteraction: STRING, type: STRING, content: STRING},Threat_Actors {name: STRING, threat_actor_id: STRING},Ransomeware {name: STRING, ransomware_id: STRING},Malware {name: STRING, malware_id: STRING},Vulnerabilities {vulnerability_type: STRING, severity_level: STRING, title: STRING, category: STRING, publised_datetime: STRING, patchable: STRING, diagnosis: STRING, pci_flag: STRING, consequences: STRING, solution: STRING, cve_ids: STRING, qualys_id: STRING, date_published: STRING, description: STRING, cve_id: STRING, version: STRING, baseScore: STRING, vectorString: STRING, attackComplexity: STRING, attackVector: STRING, availabilityImpact: STRING, baseSeverity: STRING, confidentialityImpact: STRING, integrityImpact: STRING, privilegesRequired: STRING, scope: STRING, userInteraction: STRING, type: STRING, content: STRING, exploitCodeMaturity: STRING, remediationLevel: STRING, reportConfidence: STRING, temporalScore: STRING, temporalSeverity: STRING, availabilityRequirement: STRING, confidentialityRequirement: STRING, environmentalScore: STRING, environmentalSeverity: STRING, integrityRequirement: STRING, modifiedAttackComplexity: STRING, modifiedAttackVector: STRING, modifiedAvailabilityImpact: STRING, modifiedConfidentialityImpact: STRING, modifiedIntegrityImpact: STRING, modifiedPrivilegesRequired: STRING, modifiedScope: STRING, modifiedUserInteraction: STRING},Findings {unique_vendor_detection_id: STRING, vendor_id: STRING, type: STRING, severity: STRING, status: STRING, first_found_datetime: STRING, last_found_datetime: STRING, detection_id: STRING}\\nRelationship properties are the following:\\n\\nThe relationships are the following:\\n(:Detections)-[:MORE_INFORMATION]->(:Qualys_Knowledge_Base),(:Detections)-[:MORE_INFORMATION]->(:Vulnerabilities),(:Detections)-[:FOUND_ON]->(:Hosts),(:Detections)-[:FOUND_ON]->(:Assets),(:Qualys_Knowledge_Base)-[:MORE_INFORMATION]->(:CVE_DATA),(:Qualys_Knowledge_Base)-[:MORE_INFORMATION]->(:Vulnerabilities),(:Hosts)-[:HAS_RISK]->(:Detections),(:Hosts)-[:HAS_RISK]->(:Findings),(:Assets)-[:HAS_RISK]->(:Detections),(:Assets)-[:HAS_RISK]->(:Findings),(:CVE_DATA)-[:EXPLOITED_BY]->(:Malware),(:CVE_DATA)-[:EXPLOITED_BY]->(:Ransomeware),(:CVE_DATA)-[:EXPLOITED_BY]->(:Threat_Actors),(:Threat_Actors)-[:EXPLOITS]->(:CVE_DATA),(:Threat_Actors)-[:EXPLOITS]->(:Vulnerabilities),(:Ransomeware)-[:EXPLOITS]->(:CVE_DATA),(:Ransomeware)-[:EXPLOITS]->(:Vulnerabilities),(:Malware)-[:EXPLOITS]->(:CVE_DATA),(:Malware)-[:EXPLOITS]->(:Vulnerabilities),(:Vulnerabilities)-[:MORE_INFORMATION]->(:CVE_DATA),(:Vulnerabilities)-[:MORE_INFORMATION]->(:Vulnerabilities),(:Vulnerabilities)-[:EXPLOITED_BY]->(:Malware),(:Vulnerabilities)-[:EXPLOITED_BY]->(:Ransomeware),(:Findings)-[:MORE_INFORMATION]->(:Qualys_Knowledge_Base),(:Findings)-[:MORE_INFORMATION]->(:Vulnerabilities),(:Findings)-[:FOUND_ON]->(:Hosts),(:Findings)-[:FOUND_ON]->(:Assets)'"
      ]
     },
     "execution_count": 2,
     "metadata": {},
     "output_type": "execute_result"
    }
   ],
   "source": [
    "# testing the graph connectivity \n",
    "from langchain_community.graphs import Neo4jGraph\n",
    "\n",
    "graph = Neo4jGraph()\n",
    "graph.schema"
   ]
  },
  {
   "cell_type": "code",
   "execution_count": 6,
   "metadata": {},
   "outputs": [],
   "source": [
    "# query on graph \n",
    "\n",
    "from langchain.chains import GraphCypherQAChain\n",
    "from langchain_openai import ChatOpenAI\n",
    "import os \n",
    "\n",
    "\n",
    "graph = Neo4jGraph()\n",
    "llm = ChatOpenAI(model=\"gpt-4\", temperature=0)\n",
    "chain = GraphCypherQAChain.from_llm(graph = graph, llm = llm, verbose=True, validate_cypher=True)\n"
   ]
  },
  {
   "cell_type": "code",
   "execution_count": 5,
   "metadata": {},
   "outputs": [
    {
     "name": "stdout",
     "output_type": "stream",
     "text": [
      "Node properties are the following:\n",
      "Detections {unique_vendor_detection_id: STRING, vendor_id: STRING, type: STRING, severity: STRING, status: STRING, first_found_datetime: STRING, last_found_datetime: STRING, detection_id: STRING},Qualys_Knowledge_Base {vulnerability_type: STRING, severity_level: STRING, title: STRING, category: STRING, publised_datetime: STRING, patchable: STRING, diagnosis: STRING, pci_flag: STRING, consequences: STRING, solution: STRING, cve_ids: STRING, qualys_id: STRING},Hosts {ip: STRING, os: STRING, hostname: STRING, domain: STRING, netbios: STRING, last_scan_datetime: STRING, asset_id: STRING},Assets {ip: STRING, os: STRING, hostname: STRING, domain: STRING, netbios: STRING, last_scan_datetime: STRING, asset_id: STRING},CVE_DATA {date_published: STRING, description: STRING, cve_id: STRING, version: STRING, baseScore: STRING, vectorString: STRING, attackComplexity: STRING, attackVector: STRING, availabilityImpact: STRING, baseSeverity: STRING, confidentialityImpact: STRING, integrityImpact: STRING, privilegesRequired: STRING, scope: STRING, userInteraction: STRING, exploitCodeMaturity: STRING, remediationLevel: STRING, reportConfidence: STRING, temporalScore: STRING, temporalSeverity: STRING, type: STRING, content: STRING, availabilityRequirement: STRING, confidentialityRequirement: STRING, environmentalScore: STRING, environmentalSeverity: STRING, integrityRequirement: STRING, modifiedAttackComplexity: STRING, modifiedAttackVector: STRING, modifiedAvailabilityImpact: STRING, modifiedConfidentialityImpact: STRING, modifiedIntegrityImpact: STRING, modifiedPrivilegesRequired: STRING, modifiedScope: STRING, modifiedUserInteraction: STRING},Threat_Actors {name: STRING, threat_actor_id: STRING},Ransomeware {name: STRING, ransomware_id: STRING},Malware {name: STRING, malware_id: STRING},Vulnerabilities {vulnerability_type: STRING, severity_level: STRING, title: STRING, category: STRING, publised_datetime: STRING, patchable: STRING, diagnosis: STRING, pci_flag: STRING, consequences: STRING, solution: STRING, cve_ids: STRING, qualys_id: STRING, date_published: STRING, description: STRING, cve_id: STRING, version: STRING, baseScore: STRING, vectorString: STRING, attackComplexity: STRING, attackVector: STRING, availabilityImpact: STRING, baseSeverity: STRING, confidentialityImpact: STRING, integrityImpact: STRING, privilegesRequired: STRING, scope: STRING, userInteraction: STRING, exploitCodeMaturity: STRING, remediationLevel: STRING, reportConfidence: STRING, temporalScore: STRING, temporalSeverity: STRING, availabilityRequirement: STRING, confidentialityRequirement: STRING, environmentalScore: STRING, environmentalSeverity: STRING, integrityRequirement: STRING, modifiedAttackComplexity: STRING, modifiedAttackVector: STRING, modifiedAvailabilityImpact: STRING, modifiedConfidentialityImpact: STRING, modifiedIntegrityImpact: STRING, modifiedPrivilegesRequired: STRING, modifiedScope: STRING, modifiedUserInteraction: STRING, type: STRING, content: STRING},Findings {unique_vendor_detection_id: STRING, vendor_id: STRING, type: STRING, severity: STRING, status: STRING, first_found_datetime: STRING, last_found_datetime: STRING, detection_id: STRING}\n",
      "Relationship properties are the following:\n",
      "\n",
      "The relationships are the following:\n",
      "(:Detections)-[:MORE_INFORMATION]->(:Qualys_Knowledge_Base),(:Detections)-[:MORE_INFORMATION]->(:Vulnerabilities),(:Detections)-[:FOUND_ON]->(:Hosts),(:Detections)-[:FOUND_ON]->(:Assets),(:Qualys_Knowledge_Base)-[:MORE_INFORMATION]->(:CVE_DATA),(:Qualys_Knowledge_Base)-[:MORE_INFORMATION]->(:Vulnerabilities),(:Hosts)-[:HAS_RISK]->(:Detections),(:Hosts)-[:HAS_RISK]->(:Findings),(:Assets)-[:HAS_RISK]->(:Detections),(:Assets)-[:HAS_RISK]->(:Findings),(:CVE_DATA)-[:EXPLOITED_BY]->(:Malware),(:Threat_Actors)-[:EXPLOITS]->(:CVE_DATA),(:Threat_Actors)-[:EXPLOITS]->(:Vulnerabilities),(:Ransomeware)-[:EXPLOITS]->(:CVE_DATA),(:Ransomeware)-[:EXPLOITS]->(:Vulnerabilities),(:Malware)-[:EXPLOITS]->(:CVE_DATA),(:Malware)-[:EXPLOITS]->(:Vulnerabilities),(:Vulnerabilities)-[:MORE_INFORMATION]->(:CVE_DATA),(:Vulnerabilities)-[:MORE_INFORMATION]->(:Vulnerabilities),(:Vulnerabilities)-[:EXPLOITED_BY]->(:Malware),(:Vulnerabilities)-[:EXPLOITED_BY]->(:Ransomeware),(:Vulnerabilities)-[:EXPLOITED_BY]->(:Threat_Actors),(:Findings)-[:MORE_INFORMATION]->(:Qualys_Knowledge_Base),(:Findings)-[:MORE_INFORMATION]->(:Vulnerabilities),(:Findings)-[:FOUND_ON]->(:Hosts),(:Findings)-[:FOUND_ON]->(:Assets)\n"
     ]
    }
   ],
   "source": [
    "print(chain.graph_schema)"
   ]
  },
  {
   "cell_type": "code",
   "execution_count": 7,
   "metadata": {},
   "outputs": [
    {
     "name": "stdout",
     "output_type": "stream",
     "text": [
      "\n",
      "\n",
      "\u001b[1m> Entering new GraphCypherQAChain chain...\u001b[0m\n",
      "Generated Cypher:\n",
      "\u001b[32;1m\u001b[1;3mMATCH (c:CVE_DATA {cve_id: 'CVE-2023-2021'}) RETURN c\u001b[0m\n",
      "Full Context:\n",
      "\u001b[32;1m\u001b[1;3m[{'c': {'availabilityImpact': 'LOW', 'description': \"Cross-site Scripting (XSS) - Stored in GitHub repository nilsteampassnet/teampass prior to 3.0.3.. CWE-79 Improper Neutralization of Input During Web Page Generation ('Cross-site Scripting'). version = 3.0 . vectorString = CVSS:3.0/AV:L/AC:H/PR:N/UI:R/S:U/C:H/I:L/A:L . attackVector = LOCAL . attackComplexity = HIGH . privilegesRequired = NONE . userInteraction = REQUIRED . scope = UNCHANGED . confidentialityImpact = HIGH . integrityImpact = LOW . availabilityImpact = LOW . baseScore = 5.8 . baseSeverity = MEDIUM .\", 'baseScore': '5.8', 'privilegesRequired': 'NONE', 'version': '3.0', 'userInteraction': 'REQUIRED', 'baseSeverity': 'MEDIUM', 'confidentialityImpact': 'HIGH', 'date_published': '2023-04-13T00:00:00', 'cve_id': 'CVE-2023-2021', 'attackComplexity': 'HIGH', 'scope': 'UNCHANGED', 'attackVector': 'LOCAL', 'integrityImpact': 'LOW', 'vectorString': 'CVSS:3.0/AV:L/AC:H/PR:N/UI:R/S:U/C:H/I:L/A:L'}}]\u001b[0m\n",
      "\n",
      "\u001b[1m> Finished chain.\u001b[0m\n",
      "{'query': 'what do you know about CVE-2023-2021',\n",
      " 'result': 'CVE-2023-2021 is related to a Cross-site Scripting (XSS) issue '\n",
      "           'that was stored in the GitHub repository nilsteampassnet/teampass '\n",
      "           'prior to version 3.0.3. This issue is classified under CWE-79, '\n",
      "           'which refers to the improper neutralization of input during web '\n",
      "           'page generation. The attack vector is local, with high attack '\n",
      "           'complexity and no privileges required. User interaction is '\n",
      "           'required for this issue. The scope of the issue is unchanged. It '\n",
      "           'has a high impact on confidentiality, a low impact on integrity, '\n",
      "           'and a low impact on availability. The base score for this issue is '\n",
      "           '5.8, indicating a medium severity. This issue was published on '\n",
      "           'April 13, 2023.'}\n"
     ]
    }
   ],
   "source": [
    "# question 1 \n",
    "response = chain.invoke({\"query\": \"what do you know about CVE-2023-2021\"})\n",
    "pprint(response)"
   ]
  },
  {
   "cell_type": "code",
   "execution_count": null,
   "metadata": {},
   "outputs": [],
   "source": []
  },
  {
   "cell_type": "code",
   "execution_count": 10,
   "metadata": {},
   "outputs": [
    {
     "name": "stdout",
     "output_type": "stream",
     "text": [
      "\n",
      "\n",
      "\u001b[1m> Entering new GraphCypherQAChain chain...\u001b[0m\n",
      "Generated Cypher:\n",
      "\u001b[32;1m\u001b[1;3mMATCH (f:Findings)\n",
      "WHERE f.first_found_datetime CONTAINS '2024'\n",
      "RETURN COUNT(f)\u001b[0m\n",
      "Full Context:\n",
      "\u001b[32;1m\u001b[1;3m[{'COUNT(f)': 160}]\u001b[0m\n",
      "\n",
      "\u001b[1m> Finished chain.\u001b[0m\n",
      "{'query': 'How many vulnerability findings  were discovered in 2024?',\n",
      " 'result': '160 vulnerability findings were discovered in 2024.'}\n"
     ]
    }
   ],
   "source": [
    "response = chain.invoke({'query': \"How many vulnerability findings  were discovered in 2024?\"})\n",
    "pprint(response)"
   ]
  },
  {
   "cell_type": "code",
   "execution_count": 11,
   "metadata": {},
   "outputs": [
    {
     "name": "stdout",
     "output_type": "stream",
     "text": [
      "\n",
      "\n",
      "\u001b[1m> Entering new GraphCypherQAChain chain...\u001b[0m\n",
      "Generated Cypher:\n",
      "\u001b[32;1m\u001b[1;3mMATCH (f:Findings)\n",
      "WHERE f.first_found_datetime CONTAINS '2024'\n",
      "RETURN f.severity, COUNT(*) AS count\n",
      "ORDER BY count DESC\u001b[0m\n",
      "Full Context:\n",
      "\u001b[32;1m\u001b[1;3m[{'f.severity': '4', 'count': 89}, {'f.severity': '3', 'count': 35}, {'f.severity': '2', 'count': 22}, {'f.severity': '5', 'count': 14}]\u001b[0m\n",
      "\n",
      "\u001b[1m> Finished chain.\u001b[0m\n",
      "{'query': 'How many vulnerability findings  were discovered in 2024? Group '\n",
      "          'them by severity.',\n",
      " 'result': 'In 2024, 89 vulnerability findings of severity 4, 35 of severity '\n",
      "           '3, 22 of severity 2, and 14 of severity 5 were discovered.'}\n"
     ]
    }
   ],
   "source": [
    "response = chain.invoke({'query': \"How many vulnerability findings  were discovered in 2024? Group them by severity.\"})\n",
    "pprint(response)"
   ]
  },
  {
   "cell_type": "code",
   "execution_count": 12,
   "metadata": {},
   "outputs": [
    {
     "name": "stdout",
     "output_type": "stream",
     "text": [
      "\n",
      "\n",
      "\u001b[1m> Entering new GraphCypherQAChain chain...\u001b[0m\n",
      "Generated Cypher:\n",
      "\u001b[32;1m\u001b[1;3mMATCH (d:Detections)-[:MORE_INFORMATION]->(q:Qualys_Knowledge_Base)-[:MORE_INFORMATION]->(v:Vulnerabilities) \n",
      "WHERE d.vendor_id = \"Qualys\" AND d.first_found_datetime CONTAINS \"2024\" \n",
      "RETURN COUNT(v)\u001b[0m\n",
      "Full Context:\n",
      "\u001b[32;1m\u001b[1;3m[{'COUNT(v)': 0}]\u001b[0m\n",
      "\n",
      "\u001b[1m> Finished chain.\u001b[0m\n",
      "{'query': 'How many vulnerabilities were discovered by Qualys in 2024?',\n",
      " 'result': 'No vulnerabilities were discovered by Qualys in 2024.'}\n"
     ]
    }
   ],
   "source": [
    "response = chain.invoke({'query': \"How many vulnerabilities were discovered by Qualys in 2024?\"})\n",
    "pprint(response)"
   ]
  },
  {
   "cell_type": "code",
   "execution_count": 5,
   "metadata": {},
   "outputs": [
    {
     "name": "stdout",
     "output_type": "stream",
     "text": [
      "\n",
      "\n",
      "\u001b[1m> Entering new GraphCypherQAChain chain...\u001b[0m\n",
      "Generated Cypher:\n",
      "\u001b[32;1m\u001b[1;3mMATCH (v:Vulnerabilities) WHERE v.date_published STARTS WITH '2024' RETURN COUNT(v)\u001b[0m\n",
      "Full Context:\n",
      "\u001b[32;1m\u001b[1;3m[{'COUNT(v)': 11355}]\u001b[0m\n",
      "\n",
      "\u001b[1m> Finished chain.\u001b[0m\n",
      "{'query': 'How many vulnerabilities were discovered in 2024?',\n",
      " 'result': '11355 vulnerabilities were discovered in 2024.'}\n"
     ]
    }
   ],
   "source": [
    "# question 2 \n",
    "# which vulnerabilities are we talking about?\n",
    "response = chain.invoke({'query': \"How many vulnerabilities were discovered in 2024?\"})\n",
    "pprint(response)"
   ]
  },
  {
   "cell_type": "code",
   "execution_count": 6,
   "metadata": {},
   "outputs": [
    {
     "name": "stdout",
     "output_type": "stream",
     "text": [
      "\n",
      "\n",
      "\u001b[1m> Entering new GraphCypherQAChain chain...\u001b[0m\n",
      "Generated Cypher:\n",
      "\u001b[32;1m\u001b[1;3mMATCH (v:CVE_DATA) WHERE v.date_published CONTAINS '2024' RETURN COUNT(v)\u001b[0m\n",
      "Full Context:\n",
      "\u001b[32;1m\u001b[1;3m[{'COUNT(v)': 11355}]\u001b[0m\n",
      "\n",
      "\u001b[1m> Finished chain.\u001b[0m\n",
      "{'query': 'How many cve vulnerabilities were discovered in 2024?',\n",
      " 'result': '11355 CVE vulnerabilities were discovered in 2024.'}\n"
     ]
    }
   ],
   "source": [
    "# question 2 \n",
    "# response = chain.invoke({'query': \"How many  vulnerabilities were discovered in 2024?\"})\n",
    "response = chain.invoke({'query': \"How many cve vulnerabilities were discovered in 2024?\"})\n",
    "pprint(response)"
   ]
  },
  {
   "cell_type": "code",
   "execution_count": 8,
   "metadata": {},
   "outputs": [
    {
     "name": "stdout",
     "output_type": "stream",
     "text": [
      "\n",
      "\n",
      "\u001b[1m> Entering new GraphCypherQAChain chain...\u001b[0m\n",
      "Generated Cypher:\n",
      "\u001b[32;1m\u001b[1;3mMATCH (r:Ransomeware)-[:EXPLOITS]->(v:Vulnerabilities) RETURN v\u001b[0m\n",
      "Full Context:\n",
      "\u001b[32;1m\u001b[1;3m[{'v': {'availabilityImpact': 'HIGH', 'description': 'Vulnerability in the Oracle WebLogic Server component of Oracle Fusion Middleware (subcomponent: Web Services). Supported versions that are affected are 10.3.6.0.0 and 12.1.3.0.0. Easily exploitable vulnerability allows unauthenticated attacker with network access via HTTP to compromise Oracle WebLogic Server. Successful attacks of this vulnerability can result in takeover of Oracle WebLogic Server. CVSS 3.0 Base Score 9.8 (Confidentiality, Integrity and Availability impacts). CVSS Vector: (CVSS:3.0/AV:N/AC:L/PR:N/UI:N/S:U/C:H/I:H/A:H).. Easily exploitable vulnerability allows unauthenticated attacker with network access via HTTP to compromise Oracle WebLogic Server.  Successful attacks of this vulnerability can result in takeover of Oracle WebLogic Server.. attackComplexity = LOW . attackVector = NETWORK . availabilityImpact = HIGH . baseScore = 7.5 . baseSeverity = HIGH . confidentialityImpact = NONE . integrityImpact = NONE . privilegesRequired = NONE . scope = UNCHANGED . userInteraction = NONE . vectorString = CVSS:3.0/AV:N/AC:L/PR:N/UI:N/S:U/C:N/I:N/A:H . version = 3.0 .', 'baseScore': '7.5', 'privilegesRequired': 'NONE', 'version': '3.0', 'userInteraction': 'NONE', 'baseSeverity': 'HIGH', 'confidentialityImpact': 'NONE', 'date_published': '2019-04-26T18:21:08', 'cve_id': 'CVE-2019-2725', 'attackComplexity': 'LOW', 'scope': 'UNCHANGED', 'attackVector': 'NETWORK', 'integrityImpact': 'NONE', 'vectorString': 'CVSS:3.0/AV:N/AC:L/PR:N/UI:N/S:U/C:N/I:N/A:H'}}, {'v': {'date_published': '2018-03-29T07:00:00', 'cve_id': 'CVE-2018-7600', 'description': 'Drupal before 7.58, 8.x before 8.3.9, 8.4.x before 8.4.6, and 8.5.x before 8.5.1 allows remote attackers to execute arbitrary code because of an issue affecting multiple subsystems with default or common module configurations.. remote code execution.'}}, {'v': {'date_published': '2018-05-04T03:00:00', 'cve_id': 'CVE-2018-10562', 'description': \"An issue was discovered on Dasan GPON home routers. Command Injection can occur via the dest_host parameter in a diag_action=ping request to a GponForm/diag_Form URI. Because the router saves ping results in /tmp and transmits them to the user when the user revisits /diag.html, it's quite simple to execute commands and retrieve their output.. .\"}}, {'v': {'date_published': '2018-05-04T03:00:00', 'cve_id': 'CVE-2018-10561', 'description': 'An issue was discovered on Dasan GPON home routers. It is possible to bypass authentication simply by appending \"?images\" to any URL of the device that requires authentication, as demonstrated by the /menu.html?images/ or /GponForm/diag_FORM?images/ URI. One can then manage the device.. .'}}, {'v': {'date_published': '2017-10-19T17:00:00', 'cve_id': 'CVE-2017-10271', 'description': 'Vulnerability in the Oracle WebLogic Server component of Oracle Fusion Middleware (subcomponent: WLS Security). Supported versions that are affected are 10.3.6.0.0, 12.1.3.0.0, 12.2.1.1.0 and 12.2.1.2.0. Easily exploitable vulnerability allows unauthenticated attacker with network access via T3 to compromise Oracle WebLogic Server. Successful attacks of this vulnerability can result in takeover of Oracle WebLogic Server. CVSS 3.0 Base Score 7.5 (Availability impacts). CVSS Vector: (CVSS:3.0/AV:N/AC:L/PR:N/UI:N/S:U/C:N/I:N/A:H).. Easily exploitable vulnerability allows unauthenticated attacker with network access via HTTP to compromise Oracle WebLogic Server.  Successful attacks of this vulnerability can result in takeover of Oracle WebLogic Server..'}}, {'v': {'date_published': '2007-02-21T11:00:00', 'cve_id': 'CVE-2007-1036', 'description': 'The default configuration of JBoss does not restrict access to the (1) console and (2) web management interfaces, which allows remote attackers to bypass authentication and gain administrative access via direct requests.. .'}}, {'v': {'availabilityImpact': 'HIGH', 'description': 'An SQL injection vulnerability has been reported to affect QNAP NAS running Multimedia Console or the Media Streaming add-on. If exploited, the vulnerability allows remote attackers to obtain application information. QNAP has already fixed this vulnerability in the following versions of Multimedia Console and the Media Streaming add-on. QTS 4.3.3: Media Streaming add-on 430.1.8.10 and later QTS 4.3.6: Media Streaming add-on 430.1.8.8 and later QTS 4.4.x and later: Multimedia Console 1.3.4 and later We have also fixed this vulnerability in the following versions of QTS 4.3.3 and QTS 4.3.6, respectively: QTS 4.3.3.1624 Build 20210416 or later QTS 4.3.6.1620 Build 20210322 or later. CWE-20 Improper Input Validation CWE-89 SQL Injection CWE-943 Improper Neutralization of Special Elements in Data Query Logic. attackComplexity = LOW . attackVector = NETWORK . availabilityImpact = HIGH . baseScore = 9.8 . baseSeverity = CRITICAL . confidentialityImpact = HIGH . integrityImpact = HIGH . privilegesRequired = NONE . scope = UNCHANGED . userInteraction = NONE . vectorString = CVSS:3.1/AV:N/AC:L/PR:N/UI:N/S:U/C:H/I:H/A:H . version = 3.1 .', 'baseScore': '9.8', 'privilegesRequired': 'NONE', 'version': '3.1', 'userInteraction': 'NONE', 'baseSeverity': 'CRITICAL', 'confidentialityImpact': 'HIGH', 'date_published': '2021-04-16T00:00:00', 'cve_id': 'CVE-2020-36195', 'attackComplexity': 'LOW', 'scope': 'UNCHANGED', 'attackVector': 'NETWORK', 'integrityImpact': 'HIGH', 'vectorString': 'CVSS:3.1/AV:N/AC:L/PR:N/UI:N/S:U/C:H/I:H/A:H'}}, {'v': {'date_published': '2021-04-16T00:00:00', 'cve_id': 'CVE-2020-2509', 'description': \"A command injection vulnerability has been reported to affect QTS and QuTS hero. If exploited, this vulnerability allows attackers to execute arbitrary commands in a compromised application. We have already fixed this vulnerability in the following versions: QTS 4.5.2.1566 Build 20210202 and later QTS 4.5.1.1495 Build 20201123 and later QTS 4.3.6.1620 Build 20210322 and later QTS 4.3.4.1632 Build 20210324 and later QTS 4.3.3.1624 Build 20210416 and later QTS 4.2.6 Build 20210327 and later QuTS hero h4.5.1.1491 build 20201119 and later. CWE-77 Improper Neutralization of Special Elements used in a Command ('Command Injection') CWE-78 OS Command Injection.\"}}, {'v': {'availabilityImpact': 'HIGH', 'description': 'Vulnerability in the Oracle WebLogic Server component of Oracle Fusion Middleware (subcomponent: Web Services). Supported versions that are affected are 10.3.6.0.0 and 12.1.3.0.0. Easily exploitable vulnerability allows unauthenticated attacker with network access via HTTP to compromise Oracle WebLogic Server. Successful attacks of this vulnerability can result in takeover of Oracle WebLogic Server. CVSS 3.0 Base Score 9.8 (Confidentiality, Integrity and Availability impacts). CVSS Vector: (CVSS:3.0/AV:N/AC:L/PR:N/UI:N/S:U/C:H/I:H/A:H).. Easily exploitable vulnerability allows unauthenticated attacker with network access via HTTP to compromise Oracle WebLogic Server.  Successful attacks of this vulnerability can result in takeover of Oracle WebLogic Server.. attackComplexity = LOW . attackVector = NETWORK . availabilityImpact = HIGH . baseScore = 7.5 . baseSeverity = HIGH . confidentialityImpact = NONE . integrityImpact = NONE . privilegesRequired = NONE . scope = UNCHANGED . userInteraction = NONE . vectorString = CVSS:3.0/AV:N/AC:L/PR:N/UI:N/S:U/C:N/I:N/A:H . version = 3.0 .', 'baseScore': '7.5', 'privilegesRequired': 'NONE', 'version': '3.0', 'userInteraction': 'NONE', 'baseSeverity': 'HIGH', 'confidentialityImpact': 'NONE', 'date_published': '2019-04-26T18:21:08', 'cve_id': 'CVE-2019-2725', 'attackComplexity': 'LOW', 'scope': 'UNCHANGED', 'attackVector': 'NETWORK', 'integrityImpact': 'NONE', 'vectorString': 'CVSS:3.0/AV:N/AC:L/PR:N/UI:N/S:U/C:N/I:N/A:H'}}, {'v': {'date_published': '2018-03-29T07:00:00', 'cve_id': 'CVE-2018-7600', 'description': 'Drupal before 7.58, 8.x before 8.3.9, 8.4.x before 8.4.6, and 8.5.x before 8.5.1 allows remote attackers to execute arbitrary code because of an issue affecting multiple subsystems with default or common module configurations.. remote code execution.'}}]\u001b[0m\n",
      "\n",
      "\u001b[1m> Finished chain.\u001b[0m\n",
      "{'query': 'Which vulnerabilities are exploitable by ransomware?',\n",
      " 'result': \"I'm sorry, but the provided information does not specify which \"\n",
      "           'vulnerabilities are exploitable by ransomware.'}\n"
     ]
    }
   ],
   "source": [
    "# question 3 \n",
    "response = chain.invoke({'query': \"Which vulnerabilities are exploitable by ransomware?\"})\n",
    "pprint(response)"
   ]
  },
  {
   "cell_type": "code",
   "execution_count": 9,
   "metadata": {},
   "outputs": [
    {
     "name": "stdout",
     "output_type": "stream",
     "text": [
      "\n",
      "\n",
      "\u001b[1m> Entering new GraphCypherQAChain chain...\u001b[0m\n",
      "Generated Cypher:\n",
      "\u001b[32;1m\u001b[1;3mMATCH (m:Malware)-[:EXPLOITS]->(v:Vulnerabilities) RETURN v.title, v.vulnerability_type, v.severity_level, v.category, v.publised_datetime, v.patchable, v.diagnosis, v.pci_flag, v.consequences, v.solution, v.cve_ids, v.qualys_id, v.date_published, v.description, v.cve_id, v.version, v.baseScore, v.vectorString, v.attackComplexity, v.attackVector, v.availabilityImpact, v.baseSeverity, v.confidentialityImpact, v.integrityImpact, v.privilegesRequired, v.scope, v.userInteraction, v.exploitCodeMaturity, v.remediationLevel, v.reportConfidence, v.temporalScore, v.temporalSeverity, v.type, v.content\u001b[0m\n",
      "Full Context:\n",
      "\u001b[32;1m\u001b[1;3m[{'v.title': None, 'v.vulnerability_type': None, 'v.severity_level': None, 'v.category': None, 'v.publised_datetime': None, 'v.patchable': None, 'v.diagnosis': None, 'v.pci_flag': None, 'v.consequences': None, 'v.solution': None, 'v.cve_ids': None, 'v.qualys_id': None, 'v.date_published': '2022-10-03T16:15:28', 'v.description': 'The kernel in Samsung Galaxy S2, Galaxy Note 2, MEIZU MX, and possibly other Android devices, when running an Exynos 4210 or 4412 processor, uses weak permissions (0666) for /dev/exynos-mem, which allows attackers to read or write arbitrary physical memory and gain privileges via a crafted application, as demonstrated by ExynosAbuse.. .', 'v.cve_id': 'CVE-2012-6422', 'v.version': None, 'v.baseScore': None, 'v.vectorString': None, 'v.attackComplexity': None, 'v.attackVector': None, 'v.availabilityImpact': None, 'v.baseSeverity': None, 'v.confidentialityImpact': None, 'v.integrityImpact': None, 'v.privilegesRequired': None, 'v.scope': None, 'v.userInteraction': None, 'v.exploitCodeMaturity': None, 'v.remediationLevel': None, 'v.reportConfidence': None, 'v.temporalScore': None, 'v.temporalSeverity': None, 'v.type': None, 'v.content': None}, {'v.title': None, 'v.vulnerability_type': None, 'v.severity_level': None, 'v.category': None, 'v.publised_datetime': None, 'v.patchable': None, 'v.diagnosis': None, 'v.pci_flag': None, 'v.consequences': None, 'v.solution': None, 'v.cve_ids': None, 'v.qualys_id': None, 'v.date_published': '2009-02-10T22:13:00', 'v.description': 'Microsoft Internet Explorer 7 does not properly handle errors during attempted access to deleted objects, which allows remote attackers to execute arbitrary code via a crafted HTML document, related to CFunctionPointer and the appending of document objects, aka \"Uninitialized Memory Corruption Vulnerability.\". .', 'v.cve_id': 'CVE-2009-0075', 'v.version': None, 'v.baseScore': None, 'v.vectorString': None, 'v.attackComplexity': None, 'v.attackVector': None, 'v.availabilityImpact': None, 'v.baseSeverity': None, 'v.confidentialityImpact': None, 'v.integrityImpact': None, 'v.privilegesRequired': None, 'v.scope': None, 'v.userInteraction': None, 'v.exploitCodeMaturity': None, 'v.remediationLevel': None, 'v.reportConfidence': None, 'v.temporalScore': None, 'v.temporalSeverity': None, 'v.type': None, 'v.content': None}, {'v.title': None, 'v.vulnerability_type': None, 'v.severity_level': None, 'v.category': None, 'v.publised_datetime': None, 'v.patchable': None, 'v.diagnosis': None, 'v.pci_flag': None, 'v.consequences': None, 'v.solution': None, 'v.cve_ids': None, 'v.qualys_id': None, 'v.date_published': '2006-09-19T19:00:00', 'v.description': 'Stack-based buffer overflow in the Vector Graphics Rendering engine (vgx.dll), as used in Microsoft Outlook and Internet Explorer 6.0 on Windows XP SP2, and possibly other versions, allows remote attackers to execute arbitrary code via a Vector Markup Language (VML) file with a long fill parameter within a rect tag.. .', 'v.cve_id': 'CVE-2006-4868', 'v.version': None, 'v.baseScore': None, 'v.vectorString': None, 'v.attackComplexity': None, 'v.attackVector': None, 'v.availabilityImpact': None, 'v.baseSeverity': None, 'v.confidentialityImpact': None, 'v.integrityImpact': None, 'v.privilegesRequired': None, 'v.scope': None, 'v.userInteraction': None, 'v.exploitCodeMaturity': None, 'v.remediationLevel': None, 'v.reportConfidence': None, 'v.temporalScore': None, 'v.temporalSeverity': None, 'v.type': None, 'v.content': None}, {'v.title': None, 'v.vulnerability_type': None, 'v.severity_level': None, 'v.category': None, 'v.publised_datetime': None, 'v.patchable': None, 'v.diagnosis': None, 'v.pci_flag': None, 'v.consequences': None, 'v.solution': None, 'v.cve_ids': None, 'v.qualys_id': None, 'v.date_published': '2006-03-23T00:00:00', 'v.description': 'Microsoft Internet Explorer 6 and 7 Beta 2 allows remote attackers to cause a denial of service and possibly execute arbitrary code via a certain createTextRange call on a checkbox object, which results in a dereference of an invalid table pointer.. .', 'v.cve_id': 'CVE-2006-1359', 'v.version': None, 'v.baseScore': None, 'v.vectorString': None, 'v.attackComplexity': None, 'v.attackVector': None, 'v.availabilityImpact': None, 'v.baseSeverity': None, 'v.confidentialityImpact': None, 'v.integrityImpact': None, 'v.privilegesRequired': None, 'v.scope': None, 'v.userInteraction': None, 'v.exploitCodeMaturity': None, 'v.remediationLevel': None, 'v.reportConfidence': None, 'v.temporalScore': None, 'v.temporalSeverity': None, 'v.type': None, 'v.content': None}, {'v.title': None, 'v.vulnerability_type': None, 'v.severity_level': None, 'v.category': None, 'v.publised_datetime': None, 'v.patchable': None, 'v.diagnosis': None, 'v.pci_flag': None, 'v.consequences': None, 'v.solution': None, 'v.cve_ids': None, 'v.qualys_id': None, 'v.date_published': '2009-02-10T22:13:00', 'v.description': 'Microsoft Internet Explorer 7 does not properly handle errors during attempted access to deleted objects, which allows remote attackers to execute arbitrary code via a crafted HTML document, related to CFunctionPointer and the appending of document objects, aka \"Uninitialized Memory Corruption Vulnerability.\". .', 'v.cve_id': 'CVE-2009-0075', 'v.version': None, 'v.baseScore': None, 'v.vectorString': None, 'v.attackComplexity': None, 'v.attackVector': None, 'v.availabilityImpact': None, 'v.baseSeverity': None, 'v.confidentialityImpact': None, 'v.integrityImpact': None, 'v.privilegesRequired': None, 'v.scope': None, 'v.userInteraction': None, 'v.exploitCodeMaturity': None, 'v.remediationLevel': None, 'v.reportConfidence': None, 'v.temporalScore': None, 'v.temporalSeverity': None, 'v.type': None, 'v.content': None}, {'v.title': None, 'v.vulnerability_type': None, 'v.severity_level': None, 'v.category': None, 'v.publised_datetime': None, 'v.patchable': None, 'v.diagnosis': None, 'v.pci_flag': None, 'v.consequences': None, 'v.solution': None, 'v.cve_ids': None, 'v.qualys_id': None, 'v.date_published': '2012-09-18T17:00:00', 'v.description': 'libdbus 1.5.x and earlier, when used in setuid or other privileged programs in X.org and possibly other products, allows local users to gain privileges and execute arbitrary code via the DBUS_SYSTEM_BUS_ADDRESS environment variable.  NOTE: libdbus maintainers state that this is a vulnerability in the applications that do not cleanse environment variables, not in libdbus itself: \"we do not support use of libdbus in setuid binaries that do not sanitize their environment before their first call into libdbus.\". .', 'v.cve_id': 'CVE-2012-3524', 'v.version': None, 'v.baseScore': None, 'v.vectorString': None, 'v.attackComplexity': None, 'v.attackVector': None, 'v.availabilityImpact': None, 'v.baseSeverity': None, 'v.confidentialityImpact': None, 'v.integrityImpact': None, 'v.privilegesRequired': None, 'v.scope': None, 'v.userInteraction': None, 'v.exploitCodeMaturity': None, 'v.remediationLevel': None, 'v.reportConfidence': None, 'v.temporalScore': None, 'v.temporalSeverity': None, 'v.type': None, 'v.content': None}, {'v.title': None, 'v.vulnerability_type': None, 'v.severity_level': None, 'v.category': None, 'v.publised_datetime': None, 'v.patchable': None, 'v.diagnosis': None, 'v.pci_flag': None, 'v.consequences': None, 'v.solution': None, 'v.cve_ids': None, 'v.qualys_id': None, 'v.date_published': '2009-02-10T22:13:00', 'v.description': 'Microsoft Internet Explorer 7 does not properly handle errors during attempted access to deleted objects, which allows remote attackers to execute arbitrary code via a crafted HTML document, related to CFunctionPointer and the appending of document objects, aka \"Uninitialized Memory Corruption Vulnerability.\". .', 'v.cve_id': 'CVE-2009-0075', 'v.version': None, 'v.baseScore': None, 'v.vectorString': None, 'v.attackComplexity': None, 'v.attackVector': None, 'v.availabilityImpact': None, 'v.baseSeverity': None, 'v.confidentialityImpact': None, 'v.integrityImpact': None, 'v.privilegesRequired': None, 'v.scope': None, 'v.userInteraction': None, 'v.exploitCodeMaturity': None, 'v.remediationLevel': None, 'v.reportConfidence': None, 'v.temporalScore': None, 'v.temporalSeverity': None, 'v.type': None, 'v.content': None}, {'v.title': None, 'v.vulnerability_type': None, 'v.severity_level': None, 'v.category': None, 'v.publised_datetime': None, 'v.patchable': None, 'v.diagnosis': None, 'v.pci_flag': None, 'v.consequences': None, 'v.solution': None, 'v.cve_ids': None, 'v.qualys_id': None, 'v.date_published': '2009-02-10T22:13:00', 'v.description': 'Microsoft Internet Explorer 7 does not properly handle errors during attempted access to deleted objects, which allows remote attackers to execute arbitrary code via a crafted HTML document, related to CFunctionPointer and the appending of document objects, aka \"Uninitialized Memory Corruption Vulnerability.\". .', 'v.cve_id': 'CVE-2009-0075', 'v.version': None, 'v.baseScore': None, 'v.vectorString': None, 'v.attackComplexity': None, 'v.attackVector': None, 'v.availabilityImpact': None, 'v.baseSeverity': None, 'v.confidentialityImpact': None, 'v.integrityImpact': None, 'v.privilegesRequired': None, 'v.scope': None, 'v.userInteraction': None, 'v.exploitCodeMaturity': None, 'v.remediationLevel': None, 'v.reportConfidence': None, 'v.temporalScore': None, 'v.temporalSeverity': None, 'v.type': None, 'v.content': None}, {'v.title': None, 'v.vulnerability_type': None, 'v.severity_level': None, 'v.category': None, 'v.publised_datetime': None, 'v.patchable': None, 'v.diagnosis': None, 'v.pci_flag': None, 'v.consequences': None, 'v.solution': None, 'v.cve_ids': None, 'v.qualys_id': None, 'v.date_published': '2018-07-09T19:00:00', 'v.description': 'Adobe Acrobat and Reader versions 2018.011.20038 and earlier, 2017.011.30079 and earlier, and 2015.006.30417 and earlier have an NTLM SSO hash theft vulnerability. Successful exploitation could lead to information disclosure.. NTLM SSO hash theft.', 'v.cve_id': 'CVE-2018-4993', 'v.version': None, 'v.baseScore': None, 'v.vectorString': None, 'v.attackComplexity': None, 'v.attackVector': None, 'v.availabilityImpact': None, 'v.baseSeverity': None, 'v.confidentialityImpact': None, 'v.integrityImpact': None, 'v.privilegesRequired': None, 'v.scope': None, 'v.userInteraction': None, 'v.exploitCodeMaturity': None, 'v.remediationLevel': None, 'v.reportConfidence': None, 'v.temporalScore': None, 'v.temporalSeverity': None, 'v.type': None, 'v.content': None}, {'v.title': None, 'v.vulnerability_type': None, 'v.severity_level': None, 'v.category': None, 'v.publised_datetime': None, 'v.patchable': None, 'v.diagnosis': None, 'v.pci_flag': None, 'v.consequences': None, 'v.solution': None, 'v.cve_ids': None, 'v.qualys_id': None, 'v.date_published': '2009-02-10T22:13:00', 'v.description': 'Microsoft Internet Explorer 7 does not properly handle errors during attempted access to deleted objects, which allows remote attackers to execute arbitrary code via a crafted HTML document, related to CFunctionPointer and the appending of document objects, aka \"Uninitialized Memory Corruption Vulnerability.\". .', 'v.cve_id': 'CVE-2009-0075', 'v.version': None, 'v.baseScore': None, 'v.vectorString': None, 'v.attackComplexity': None, 'v.attackVector': None, 'v.availabilityImpact': None, 'v.baseSeverity': None, 'v.confidentialityImpact': None, 'v.integrityImpact': None, 'v.privilegesRequired': None, 'v.scope': None, 'v.userInteraction': None, 'v.exploitCodeMaturity': None, 'v.remediationLevel': None, 'v.reportConfidence': None, 'v.temporalScore': None, 'v.temporalSeverity': None, 'v.type': None, 'v.content': None}]\u001b[0m\n",
      "\n",
      "\u001b[1m> Finished chain.\u001b[0m\n",
      "{'query': 'Which vulnerabilities are exploitable by malware?',\n",
      " 'result': 'The following vulnerabilities can be exploited by malware:\\n'\n",
      "           '\\n'\n",
      "           '1. CVE-2012-6422: The kernel in Samsung Galaxy S2, Galaxy Note 2, '\n",
      "           'MEIZU MX, and possibly other Android devices, when running an '\n",
      "           'Exynos 4210 or 4412 processor, uses weak permissions for '\n",
      "           '/dev/exynos-mem, which allows attackers to read or write arbitrary '\n",
      "           'physical memory and gain privileges via a crafted application.\\n'\n",
      "           '\\n'\n",
      "           '2. CVE-2009-0075: Microsoft Internet Explorer 7 does not properly '\n",
      "           'handle errors during attempted access to deleted objects, which '\n",
      "           'allows remote attackers to execute arbitrary code via a crafted '\n",
      "           'HTML document, related to CFunctionPointer and the appending of '\n",
      "           'document objects.\\n'\n",
      "           '\\n'\n",
      "           '3. CVE-2006-4868: Stack-based buffer overflow in the Vector '\n",
      "           'Graphics Rendering engine (vgx.dll), as used in Microsoft Outlook '\n",
      "           'and Internet Explorer 6.0 on Windows XP SP2, and possibly other '\n",
      "           'versions, allows remote attackers to execute arbitrary code via a '\n",
      "           'Vector Markup Language (VML) file with a long fill parameter '\n",
      "           'within a rect tag.\\n'\n",
      "           '\\n'\n",
      "           '4. CVE-2006-1359: Microsoft Internet Explorer 6 and 7 Beta 2 '\n",
      "           'allows remote attackers to cause a denial of service and possibly '\n",
      "           'execute arbitrary code via a certain createTextRange call on a '\n",
      "           'checkbox object, which results in a dereference of an invalid '\n",
      "           'table pointer.\\n'\n",
      "           '\\n'\n",
      "           '5. CVE-2012-3524: libdbus 1.5.x and earlier, when used in setuid '\n",
      "           'or other privileged programs in X.org and possibly other products, '\n",
      "           'allows local users to gain privileges and execute arbitrary code '\n",
      "           'via the DBUS_SYSTEM_BUS_ADDRESS environment variable.\\n'\n",
      "           '\\n'\n",
      "           '6. CVE-2018-4993: Adobe Acrobat and Reader versions 2018.011.20038 '\n",
      "           'and earlier, 2017.011.30079 and earlier, and 2015.006.30417 and '\n",
      "           'earlier have an NTLM SSO hash theft vulnerability. Successful '\n",
      "           'exploitation could lead to information disclosure.'}\n"
     ]
    }
   ],
   "source": [
    "# question 4 \n",
    "response = chain.invoke({'query': \"Which vulnerabilities are exploitable by malware?\"})\n",
    "pprint(response)"
   ]
  },
  {
   "cell_type": "code",
   "execution_count": 8,
   "metadata": {},
   "outputs": [
    {
     "name": "stdout",
     "output_type": "stream",
     "text": [
      "\n",
      "\n",
      "\u001b[1m> Entering new GraphCypherQAChain chain...\u001b[0m\n",
      "Generated Cypher:\n",
      "\u001b[32;1m\u001b[1;3mMATCH (v:Vulnerabilities) WHERE v.patchable = \"No\" RETURN COUNT(v)\u001b[0m\n",
      "Full Context:\n",
      "\u001b[32;1m\u001b[1;3m[{'COUNT(v)': 12065}]\u001b[0m\n",
      "\n",
      "\u001b[1m> Finished chain.\u001b[0m\n",
      "{'query': \"How many vulnerabilities don't have a patch available?\",\n",
      " 'result': \"There are 12,065 vulnerabilities that don't have a patch \"\n",
      "           'available.'}\n"
     ]
    }
   ],
   "source": [
    "# question 5\n",
    "response = chain.invoke({'query': \"How many vulnerabilities don't have a patch available?\"})\n",
    "pprint(response)"
   ]
  },
  {
   "cell_type": "code",
   "execution_count": 9,
   "metadata": {},
   "outputs": [
    {
     "name": "stdout",
     "output_type": "stream",
     "text": [
      "\n",
      "\n",
      "\u001b[1m> Entering new GraphCypherQAChain chain...\u001b[0m\n",
      "Generated Cypher:\n",
      "\u001b[32;1m\u001b[1;3mMATCH (v:Vulnerabilities)-[:EXPLOITED_BY]->() RETURN COUNT(v)\u001b[0m\n",
      "Full Context:\n",
      "\u001b[32;1m\u001b[1;3m[{'COUNT(v)': 5630}]\u001b[0m\n",
      "\n",
      "\u001b[1m> Finished chain.\u001b[0m\n",
      "{'query': 'How many vulnerabilities have a exploit available?',\n",
      " 'result': 'There are 5630 vulnerabilities that have an exploit available.'}\n"
     ]
    }
   ],
   "source": [
    "# question 6\n",
    "# is this correct?\n",
    "response = chain.invoke({'query': \"How many vulnerabilities have a exploit available?\"})\n",
    "pprint(response)"
   ]
  },
  {
   "cell_type": "code",
   "execution_count": 10,
   "metadata": {},
   "outputs": [
    {
     "name": "stdout",
     "output_type": "stream",
     "text": [
      "\n",
      "\n",
      "\u001b[1m> Entering new GraphCypherQAChain chain...\u001b[0m\n",
      "Generated Cypher:\n",
      "\u001b[32;1m\u001b[1;3mMATCH (v:Vulnerabilities) \n",
      "WHERE v.publised_datetime >= \"2022-01-01\" AND v.publised_datetime < \"2023-01-01\" \n",
      "RETURN v.severity_level AS Severity, COUNT(*) AS Distribution \n",
      "ORDER BY Distribution DESC\u001b[0m\n",
      "Full Context:\n",
      "\u001b[32;1m\u001b[1;3m[{'Severity': '4', 'Distribution': 15013}, {'Severity': '3', 'Distribution': 9963}, {'Severity': '5', 'Distribution': 4347}, {'Severity': '2', 'Distribution': 2287}, {'Severity': '1', 'Distribution': 70}]\u001b[0m\n",
      "\n",
      "\u001b[1m> Finished chain.\u001b[0m\n",
      "{'query': 'What is severity distribution (high, medium, low, critical) of '\n",
      "          'vulnerabilities discovered in 2022?',\n",
      " 'result': 'The distribution of vulnerabilities discovered in 2022 is as '\n",
      "           'follows: 15013 with high severity (4), 9963 with medium severity '\n",
      "           '(3), 4347 with critical severity (5), 2287 with low severity (2), '\n",
      "           'and 70 with the least severity (1).'}\n"
     ]
    }
   ],
   "source": [
    "# question 7\n",
    "response = chain.invoke({'query': \"What is severity distribution (high, medium, low, critical) of vulnerabilities discovered in 2022?\"})\n",
    "pprint(response)"
   ]
  },
  {
   "cell_type": "code",
   "execution_count": 11,
   "metadata": {},
   "outputs": [
    {
     "name": "stdout",
     "output_type": "stream",
     "text": [
      "\n",
      "\n",
      "\u001b[1m> Entering new GraphCypherQAChain chain...\u001b[0m\n",
      "Generated Cypher:\n",
      "\u001b[32;1m\u001b[1;3mMATCH (v:Vulnerabilities) WHERE v.pci_flag = \"true\" AND v.publised_datetime CONTAINS \"2023\" RETURN COUNT(v)\u001b[0m\n",
      "Full Context:\n",
      "\u001b[32;1m\u001b[1;3m[{'COUNT(v)': 0}]\u001b[0m\n",
      "\n",
      "\u001b[1m> Finished chain.\u001b[0m\n",
      "{'query': 'How many PCI related vulnerabilities were reported in 2023?',\n",
      " 'result': 'No PCI related vulnerabilities were reported in 2023.'}\n"
     ]
    }
   ],
   "source": [
    "# question 8\n",
    "# is this specifically related to Qualys?\n",
    "response = chain.invoke({'query': \"How many PCI related vulnerabilities were reported in 2023?\"})\n",
    "pprint(response)"
   ]
  },
  {
   "cell_type": "code",
   "execution_count": null,
   "metadata": {},
   "outputs": [],
   "source": [
    "# result 4 of 8 \n",
    "# area of improvement \n",
    "# creation of graph - convert values from flags to text "
   ]
  },
  {
   "cell_type": "code",
   "execution_count": 2,
   "metadata": {},
   "outputs": [],
   "source": [
    "from langchain_community.vectorstores import Neo4jVector\n",
    "from langchain_openai import OpenAIEmbeddings\n",
    "\n",
    "existing_graph = Neo4jVector.from_existing_graph(\n",
    "    embedding=OpenAIEmbeddings(),\n",
    "    url=\"bolt://localhost:7687\",\n",
    "    username=\"neo4j\",\n",
    "    password=\"Neo4j@123\",\n",
    "    index_name=\"software_name_index\",\n",
    "    node_label=\"Software\",\n",
    "    text_node_properties=[\"product\", \"vendor\"],\n",
    "    embedding_node_property=\"embedding\",\n",
    ")"
   ]
  },
  {
   "cell_type": "code",
   "execution_count": 5,
   "metadata": {},
   "outputs": [
    {
     "data": {
      "text/plain": [
       "[Document(page_content='\\nproduct: webserver\\nvendor: apache', metadata={'software_id': 'apache.webserver', 'vulnerability_id': '6d8821cb-8dcd-4d15-91a1-1ba2edc6819c'}),\n",
       " Document(page_content='\\nproduct: http server\\nvendor: apache', metadata={'software_id': 'apache.http server', 'vulnerability_id': 'bfef03d2-b119-46dd-9d14-0bb05d8153c0'}),\n",
       " Document(page_content='\\nproduct: apache httpd\\nvendor: apache', metadata={'software_id': 'apache.apache httpd', 'vulnerability_id': '76c56545-b398-4f7e-a9af-e9c7aca8fefa'}),\n",
       " Document(page_content='\\nproduct: httpd\\nvendor: apache', metadata={'software_id': 'apache.httpd', 'vulnerability_id': '042f6008-d41f-4bcc-bf6b-0f60a3bca495'}),\n",
       " Document(page_content='\\nproduct: apache\\nvendor: ubuntu', metadata={'software_id': 'ubuntu.apache', 'vulnerability_id': '17098100-77e8-4b4c-92f1-076d6f1410ab'}),\n",
       " Document(page_content='\\nproduct: apache_http_server\\nvendor: apache', metadata={'software_id': 'apache.apache_http_server', 'vulnerability_id': '240c02a7-fb9b-4ed6-bdd9-e8983b777685'}),\n",
       " Document(page_content='\\nproduct: apache\\nvendor: apache', metadata={'software_id': 'apache.apache', 'vulnerability_id': 'a9d98d1f-c9c8-4d6a-8e0d-254568a78623'}),\n",
       " Document(page_content='\\nproduct: apache tomcat\\nvendor: apache', metadata={'software_id': 'apache.apache tomcat', 'vulnerability_id': '8ce20e8f-1f4f-43e5-b4a7-65dd00553e02'}),\n",
       " Document(page_content='\\nproduct: apache_http_server\\nvendor: apache_software_foundation', metadata={'software_id': 'apache_software_foundation.apache_http_server', 'vulnerability_id': '982f0a78-a18d-4a19-9f6b-d945b342329d'}),\n",
       " Document(page_content='\\nproduct: http_server\\nvendor: apache', metadata={'software_id': 'apache.http_server', 'vulnerability_id': '1845ecf3-1c73-4247-8241-a77054c186a3'}),\n",
       " Document(page_content='\\nproduct: apache2\\nvendor: apache', metadata={'software_id': 'apache.apache2', 'vulnerability_id': 'e0d540af-44d6-4afe-a9ac-a6173884d92b'}),\n",
       " Document(page_content='\\nproduct: xampp\\nvendor: apache', metadata={'software_id': 'apache.xampp', 'vulnerability_id': '86f9f499-e52c-402a-b67d-18ec3d0e267f'}),\n",
       " Document(page_content='\\nproduct: apache httpd\\nvendor: gentoo', metadata={'software_id': 'gentoo.apache httpd', 'vulnerability_id': '23af853b-f3a3-46ff-82e3-f39e9787a944'}),\n",
       " Document(page_content='\\nproduct: tomcat\\nvendor: apache', metadata={'software_id': 'apache.tomcat', 'vulnerability_id': 'cabeae8c-37fa-4091-bc60-bf35949b31c9'}),\n",
       " Document(page_content='\\nproduct: apache2\\nvendor: ubuntu', metadata={'software_id': 'ubuntu.apache2', 'vulnerability_id': '7098ab22-9d86-40a7-8c89-478e1f4785ba'}),\n",
       " Document(page_content='\\nproduct: apache2\\nvendor: debian', metadata={'software_id': 'debian.apache2', 'vulnerability_id': '7f5f1bdd-451a-441f-a0ea-7aa698a0126b'}),\n",
       " Document(page_content='\\nproduct: apache\\nvendor: gentoo', metadata={'software_id': 'gentoo.apache', 'vulnerability_id': 'b9505b0b-c147-48bb-86a7-5196fba5de69'}),\n",
       " Document(page_content='\\nproduct: http server\\nvendor: ibm', metadata={'software_id': 'ibm.http server', 'vulnerability_id': '01be507a-3f68-45b5-b8e1-f009deb46f16'}),\n",
       " Document(page_content='\\nproduct: web_server\\nvendor: codesys', metadata={'software_id': 'codesys.web_server', 'vulnerability_id': '11414451-7e9a-49cd-95d5-b6f4e7319352'}),\n",
       " Document(page_content='\\nproduct: traffic_server\\nvendor: apache', metadata={'software_id': 'apache.traffic_server', 'vulnerability_id': '766ddd73-3425-4dc4-a884-a2c7cecd176c'}),\n",
       " Document(page_content='\\nproduct: apache httpd\\nvendor: freebsd', metadata={'software_id': 'freebsd.apache httpd', 'vulnerability_id': '6d9b8098-48ee-4710-b144-efd8728a72cf'}),\n",
       " Document(page_content='\\nproduct: apache\\nvendor: freebsd', metadata={'software_id': 'freebsd.apache', 'vulnerability_id': '88467f7b-9e28-40ac-8b1c-3f3192148677'}),\n",
       " Document(page_content='\\nproduct: httpd24\\nvendor: amazon', metadata={'software_id': 'amazon.httpd24', 'vulnerability_id': '9ed9d400-52ef-4d34-b576-4c57756f9563'}),\n",
       " Document(page_content='\\nproduct: abyss_web_server\\nvendor: aprelium_technologies', metadata={'software_id': 'aprelium_technologies.abyss_web_server', 'vulnerability_id': '09de9a17-4a4f-4dd0-ae8f-b5a3e3dcc2ff'}),\n",
       " Document(page_content='\\nproduct: apache tomcat\\nvendor: gentoo', metadata={'software_id': 'gentoo.apache tomcat', 'vulnerability_id': '20cc3410-b012-4545-9106-34fb3fc85eca'}),\n",
       " Document(page_content='\\nproduct: web\\nvendor: web', metadata={'software_id': 'web.web', 'vulnerability_id': '44f5c522-22b3-41ae-a974-d19fcd38200e'}),\n",
       " Document(page_content='\\nproduct: httpd\\nvendor: amazon', metadata={'software_id': 'amazon.httpd', 'vulnerability_id': 'c2c73f40-48e8-4a6a-8351-b7d12e171853'}),\n",
       " Document(page_content='\\nproduct: httpd\\nvendor: euleros', metadata={'software_id': 'euleros.httpd', 'vulnerability_id': 'd52e78a2-50f7-48a5-abd4-300840a2b989'}),\n",
       " Document(page_content='\\nproduct: none\\nvendor: apache', metadata={'software_id': 'apache.none', 'vulnerability_id': '501f1dd0-d814-4b71-9009-6372d70ac29b'}),\n",
       " Document(page_content='\\nproduct: httpd\\nvendor: almalinux', metadata={'software_id': 'almalinux.httpd', 'vulnerability_id': '25a3d881-5638-4ab9-9891-7f015646a8fe'}),\n",
       " Document(page_content='\\nproduct: http_server\\nvendor: ibm', metadata={'software_id': 'ibm.http_server', 'vulnerability_id': '1ee709f5-f533-44b9-b585-adf1921eaffb'}),\n",
       " Document(page_content='\\nproduct: apache tomcat\\nvendor: freebsd', metadata={'software_id': 'freebsd.apache tomcat', 'vulnerability_id': '0d57c1dc-4666-4b06-9801-fa6d27ca01d7'}),\n",
       " Document(page_content='\\nproduct: apache2\\nvendor: opensuse', metadata={'software_id': 'opensuse.apache2', 'vulnerability_id': 'fce84376-74fd-44b0-af96-30fd500ba5e9'}),\n",
       " Document(page_content='\\nproduct: apache\\nvendor: fedora', metadata={'software_id': 'fedora.apache', 'vulnerability_id': 'd0e0e589-fba8-4b60-8ba9-091494e52a3e'}),\n",
       " Document(page_content='\\nproduct: http server\\nvendor: oracle', metadata={'software_id': 'oracle.http server', 'vulnerability_id': 'fca4dc16-f829-4dde-a12a-e7d60195c047'}),\n",
       " Document(page_content='\\nproduct: apache_tomcat\\nvendor: apache', metadata={'software_id': 'apache.apache_tomcat', 'vulnerability_id': '50dc50e9-10a9-4690-bb19-9a6497ffe557'}),\n",
       " Document(page_content='\\nproduct: httpd:2.4\\nvendor: oracle', metadata={'software_id': 'oracle.httpd:2.4', 'vulnerability_id': 'f23b72b2-2d96-480e-9855-057675aef7ed'}),\n",
       " Document(page_content='\\nproduct: httpd\\nvendor: oracle', metadata={'software_id': 'oracle.httpd', 'vulnerability_id': '246db33f-7191-4200-82f0-5a87bb4d6c8f'}),\n",
       " Document(page_content='\\nproduct: codesys_web_server\\nvendor: 3s-smart_software_solutions', metadata={'software_id': '3s-smart_software_solutions.codesys_web_server', 'vulnerability_id': 'acd10449-5ded-4efc-9899-af79fa334e3f'}),\n",
       " Document(page_content='\\nproduct: httpd:2.4\\nvendor: alibaba cloud linux', metadata={'software_id': 'alibaba cloud linux.httpd:2.4', 'vulnerability_id': 'f39d36ec-6e52-4132-b16b-070e9261ccaa'}),\n",
       " Document(page_content='\\nproduct: apache2\\nvendor: suse', metadata={'software_id': 'suse.apache2', 'vulnerability_id': '3a5f94b4-ffe8-4736-8b36-7d06255b7e2f'}),\n",
       " Document(page_content='\\nproduct: apache2\\nvendor: alpine', metadata={'software_id': 'alpine.apache2', 'vulnerability_id': 'c67fa44b-3d18-4037-ac7f-2cb3b76be96e'}),\n",
       " Document(page_content='\\nproduct: None\\nvendor: apache', metadata={'software_id': 'apache.None', 'vulnerability_id': '7065468f-e938-45b2-ba67-c538d908e4eb'}),\n",
       " Document(page_content='\\nproduct: httpd:2.4 security and bug fix update\\nvendor: oracle', metadata={'software_id': 'oracle.httpd:2.4 security and bug fix update', 'vulnerability_id': '6a270b2a-f691-4d2d-8538-f2b08c49d546'}),\n",
       " Document(page_content='\\nproduct: codesys_web_server\\nvendor: codesys', metadata={'software_id': 'codesys.codesys_web_server', 'vulnerability_id': '625b609a-0d66-4087-a292-0db48bc854ee'}),\n",
       " Document(page_content='\\nproduct: apache_distribution\\nvendor: ubuntu', metadata={'software_id': 'ubuntu.apache_distribution', 'vulnerability_id': '49dd4692-5672-4a8e-91f1-24735e4358db'}),\n",
       " Document(page_content='\\nproduct: httpd24\\nvendor: amazon linux', metadata={'software_id': 'amazon linux.httpd24', 'vulnerability_id': '9ef4f559-6411-4637-8b57-4e79d4be9fd6'}),\n",
       " Document(page_content='\\nproduct: http_server\\nvendor: crushftp', metadata={'software_id': 'crushftp.http_server', 'vulnerability_id': 'c368cdf8-2864-4509-b980-482b4b3149b4'}),\n",
       " Document(page_content='\\nproduct: tapestry\\nvendor: apache', metadata={'software_id': 'apache.tapestry', 'vulnerability_id': '5aeda30a-7688-472a-bc84-5b66e2646d9d'}),\n",
       " Document(page_content='\\nproduct: httpd\\nvendor: amazon linux 2022', metadata={'software_id': 'amazon linux 2022.httpd', 'vulnerability_id': '771fbcd8-b6af-4b9d-addf-5e962ea98a2b'}),\n",
       " Document(page_content='\\nproduct: webmin\\nvendor: webmin', metadata={'software_id': 'webmin.webmin', 'vulnerability_id': 'b9c4a28f-a1ca-44b8-9b32-7e3edead589a'}),\n",
       " Document(page_content='\\nproduct: http server\\nvendor: http', metadata={'software_id': 'http.http server', 'vulnerability_id': 'bbcc19b8-6a61-45d7-8dec-ae17fe39e6ff'}),\n",
       " Document(page_content='\\nproduct: tomcat7\\nvendor: amazon', metadata={'software_id': 'amazon.tomcat7', 'vulnerability_id': '4a387692-94b9-45ed-9f50-552d085712c4'}),\n",
       " Document(page_content='\\nproduct: apache_tomcat\\nvendor: apache_tomcat', metadata={'software_id': 'apache_tomcat.apache_tomcat', 'vulnerability_id': '377d4887-bb6d-4bf0-857f-0b53521bf107'}),\n",
       " Document(page_content='\\nproduct: airflow\\nvendor: apache', metadata={'software_id': 'apache.airflow', 'vulnerability_id': '9d3d65e2-8225-483b-9795-40aef13514fc'}),\n",
       " Document(page_content='\\nproduct: tomcat7\\nvendor: debian', metadata={'software_id': 'debian.tomcat7', 'vulnerability_id': '75cfff9a-b1cf-4acc-af6b-051835926b3e'}),\n",
       " Document(page_content='\\nproduct: codesys_web_server\\nvendor: 3s-smart', metadata={'software_id': '3s-smart.codesys_web_server', 'vulnerability_id': 'd4472398-3e32-4700-ac8d-175e2097fc59'}),\n",
       " Document(page_content='\\nproduct: httpd\\nvendor: alibaba cloud linux', metadata={'software_id': 'alibaba cloud linux.httpd', 'vulnerability_id': '85944165-4e09-40d7-bb76-23294aa861f5'}),\n",
       " Document(page_content='\\nproduct: httpd\\nvendor: amazon linux 2', metadata={'software_id': 'amazon linux 2.httpd', 'vulnerability_id': 'd4f49583-3274-4620-83af-fd479ff243d4'}),\n",
       " Document(page_content='\\nproduct: juddi\\nvendor: apache', metadata={'software_id': 'apache.juddi', 'vulnerability_id': '3b87c128-5950-43b5-a76b-54b7940f2e34'}),\n",
       " Document(page_content='\\nproduct: solr\\nvendor: apache', metadata={'software_id': 'apache.solr', 'vulnerability_id': 'c247343a-c5f7-4d59-89ba-362eafef07da'}),\n",
       " Document(page_content='\\nproduct: impala\\nvendor: apache', metadata={'software_id': 'apache.impala', 'vulnerability_id': '19b5913f-8635-4038-960e-6e9e8f6bcb6d'}),\n",
       " Document(page_content='\\nproduct: apache-parent\\nvendor: suse', metadata={'software_id': 'suse.apache-parent', 'vulnerability_id': 'c8cf9a58-c0df-475c-8d3b-4f03e1d1337b'}),\n",
       " Document(page_content='\\nproduct: websphere_application_server\\nvendor: ibm', metadata={'software_id': 'ibm.websphere_application_server', 'vulnerability_id': 'fc88dcf5-21d2-401a-ad60-b0457a132785'}),\n",
       " Document(page_content='\\nproduct: tomcat8\\nvendor: amazon', metadata={'software_id': 'amazon.tomcat8', 'vulnerability_id': '5d70919f-789e-40ee-bc4c-f8342c53d050'}),\n",
       " Document(page_content='\\nproduct: tomcat\\nvendor: amazon', metadata={'software_id': 'amazon.tomcat', 'vulnerability_id': '599b5f53-91d3-42e7-b717-a5a77bb8adb4'}),\n",
       " Document(page_content='\\nproduct: httpd\\nvendor: amazon linux 2023', metadata={'software_id': 'amazon linux 2023.httpd', 'vulnerability_id': '97e2df03-fee0-4d1d-982c-d6f4d56964a9'}),\n",
       " Document(page_content='\\nproduct: httpd and mod_http2\\nvendor: oracle', metadata={'software_id': 'oracle.httpd and mod_http2', 'vulnerability_id': '23b93dbc-d727-49e9-a9d4-28798e8d7698'}),\n",
       " Document(page_content='\\nproduct: tomcat\\nvendor: almalinux', metadata={'software_id': 'almalinux.tomcat', 'vulnerability_id': '718018d5-9f21-457f-92dc-a4b3b6e0bb3b'}),\n",
       " Document(page_content='\\nproduct: webaccess\\nvendor: advantech', metadata={'software_id': 'advantech.webaccess', 'vulnerability_id': '5e79ad18-c17c-48a7-aebd-b2c41a3aa10f'}),\n",
       " Document(page_content='\\nproduct: tomcat6\\nvendor: amazon', metadata={'software_id': 'amazon.tomcat6', 'vulnerability_id': '69ee7286-e857-4dd1-bdc3-37b1ccbffbe2'}),\n",
       " Document(page_content='\\nproduct: advanced_core_operating_system\\nvendor: a1webserver', metadata={'software_id': 'a1webserver.advanced_core_operating_system', 'vulnerability_id': '91066e81-3ac4-4a34-a7f1-a547978d017d'}),\n",
       " Document(page_content='\\nproduct: tomcat8\\nvendor: ubuntu', metadata={'software_id': 'ubuntu.tomcat8', 'vulnerability_id': 'e4af6df3-95ee-4c29-bb61-e74b026a1b10'}),\n",
       " Document(page_content='\\nproduct: apache maven\\nvendor: freebsd', metadata={'software_id': 'freebsd.apache maven', 'vulnerability_id': '93666ba4-26fd-4f4a-ba23-6062493542f4'}),\n",
       " Document(page_content='\\nproduct: red hat jboss core services apache http server 2.4.37 sp10\\nvendor: redhat', metadata={'software_id': 'redhat.red hat jboss core services apache http server 2.4.37 sp10', 'vulnerability_id': '1aed97a1-cac7-46ef-bc50-953eaaf56e4e'}),\n",
       " Document(page_content='\\nproduct: usermin\\nvendor: webmin', metadata={'software_id': 'webmin.usermin', 'vulnerability_id': 'e52cbc6b-a5a5-486c-b15f-0598801e1264'}),\n",
       " Document(page_content='\\nproduct: goahead_webserver\\nvendor: embedthis', metadata={'software_id': 'embedthis.goahead_webserver', 'vulnerability_id': '1b464f09-01f0-4c74-9889-06343b58fffb'}),\n",
       " Document(page_content='\\nproduct: zeppelin\\nvendor: apache', metadata={'software_id': 'apache.zeppelin', 'vulnerability_id': '0954b9ee-6239-4118-a6c3-b963e70229eb'}),\n",
       " Document(page_content='\\nproduct: pi_af_server\\nvendor: osisoft', metadata={'software_id': 'osisoft.pi_af_server', 'vulnerability_id': 'f093496a-b1c6-4fbb-81c2-e0296762da6a'}),\n",
       " Document(page_content='\\nproduct: wicket\\nvendor: apache', metadata={'software_id': 'apache.wicket', 'vulnerability_id': 'd5957058-50e1-49df-8606-01ce0d424318'}),\n",
       " Document(page_content='\\nproduct: apache velocity\\nvendor: gentoo', metadata={'software_id': 'gentoo.apache velocity', 'vulnerability_id': '36303ff0-5391-418a-a88c-0a634b332413'}),\n",
       " Document(page_content='\\nproduct: http_server\\nvendor: oracle', metadata={'software_id': 'oracle.http_server', 'vulnerability_id': '4f52054b-c624-415a-abc0-e3f06dc50389'}),\n",
       " Document(page_content='\\nproduct: log4js\\nvendor: apache', metadata={'software_id': 'apache.log4js', 'vulnerability_id': 'd75416de-3ccf-4ec1-8c7b-e1281eb29267'}),\n",
       " Document(page_content='\\nproduct: icedtea-web\\nvendor: euleros', metadata={'software_id': 'euleros.icedtea-web', 'vulnerability_id': 'c5bf3591-d47b-48e3-bb1b-a8a2063a326d'}),\n",
       " Document(page_content='\\nproduct: bw-webdav\\nvendor: apereo', metadata={'software_id': 'apereo.bw-webdav', 'vulnerability_id': '54e28364-a335-480e-984d-6325cb91c3ee'}),\n",
       " Document(page_content='\\nproduct: tomcat\\nvendor: ubuntu', metadata={'software_id': 'ubuntu.tomcat', 'vulnerability_id': '4211bb99-1ac8-42eb-b085-14d0c11ad782'}),\n",
       " Document(page_content='\\nproduct: apache-log4j1.2\\nvendor: debian', metadata={'software_id': 'debian.apache-log4j1.2', 'vulnerability_id': '023fa290-4aa3-46d2-9df6-bca49e9d645b'}),\n",
       " Document(page_content='\\nproduct: icingaweb2\\nvendor: debian', metadata={'software_id': 'debian.icingaweb2', 'vulnerability_id': '84a97217-e60d-4127-8d21-59eafd81746b'}),\n",
       " Document(page_content='\\nproduct: icingaweb2\\nvendor: alpine', metadata={'software_id': 'alpine.icingaweb2', 'vulnerability_id': 'da5dc192-e82d-45fd-975f-f7a79b53bcc7'}),\n",
       " Document(page_content='\\nproduct: server\\nvendor: ajenti', metadata={'software_id': 'ajenti.server', 'vulnerability_id': 'a3fe278e-9f30-4567-aeb9-6f2abee5b4a1'}),\n",
       " Document(page_content='\\nproduct: subversion\\nvendor: apache', metadata={'software_id': 'apache.subversion', 'vulnerability_id': 'a8c82fc1-55be-47eb-823a-c7940bc0e3ac'}),\n",
       " Document(page_content='\\nproduct: hsweb\\nvendor: hsweb', metadata={'software_id': 'hsweb.hsweb', 'vulnerability_id': 'a98e9233-14b0-4bee-9d03-1cdc5775f95a'}),\n",
       " Document(page_content='\\nproduct: storm\\nvendor: apache', metadata={'software_id': 'apache.storm', 'vulnerability_id': 'b2e4c830-5689-4a04-a70d-f429b0da873a'}),\n",
       " Document(page_content='\\nproduct: apache-jena\\nvendor: debian', metadata={'software_id': 'debian.apache-jena', 'vulnerability_id': 'fdac513b-d1bd-4e50-a678-c08f62d2a00a'}),\n",
       " Document(page_content='\\nproduct: shiro\\nvendor: apache', metadata={'software_id': 'apache.shiro', 'vulnerability_id': '414278b5-b4c6-4b54-971c-226a59661aab'}),\n",
       " Document(page_content='\\nproduct: tomcat8\\nvendor: debian', metadata={'software_id': 'debian.tomcat8', 'vulnerability_id': '32f44e86-9302-41c6-957d-f00414894db1'}),\n",
       " Document(page_content='\\nproduct: web_studio\\nvendor: indusoft', metadata={'software_id': 'indusoft.web_studio', 'vulnerability_id': '793902bb-523d-460e-b012-c8230da945e4'}),\n",
       " Document(page_content='\\nproduct: couchdb\\nvendor: apache', metadata={'software_id': 'apache.couchdb', 'vulnerability_id': '3501c188-353c-4bd7-b6f0-b22a820b976d'}),\n",
       " Document(page_content='\\nproduct: struts 2\\nvendor: apache', metadata={'software_id': 'apache.struts 2', 'vulnerability_id': '3cd9fb81-effa-4147-a501-81037e7c566d'}),\n",
       " Document(page_content='\\nproduct: tomcat6\\nvendor: ubuntu', metadata={'software_id': 'ubuntu.tomcat6', 'vulnerability_id': 'a3c84259-a630-41ec-b9f9-e4a4f9bb0c33'})]"
      ]
     },
     "execution_count": 5,
     "metadata": {},
     "output_type": "execute_result"
    }
   ],
   "source": [
    "existing_graph.similarity_search(\"Apache web server\", k = 100)"
   ]
  },
  {
   "cell_type": "markdown",
   "metadata": {},
   "source": [
    "**Fields to be Embedded**\n",
    "\n",
    "1. Qualys_Knowldge_Base \n",
    "    - consequences\n",
    "    - diagnosis \n",
    "    - solution\n",
    "\n",
    "2. CVE_DATA\n",
    "    - description\n",
    "\n",
    "3.  "
   ]
  },
  {
   "cell_type": "code",
   "execution_count": null,
   "metadata": {},
   "outputs": [],
   "source": [
    "\n"
   ]
  }
 ],
 "metadata": {
  "kernelspec": {
   "display_name": "vulnragenv",
   "language": "python",
   "name": "python3"
  },
  "language_info": {
   "codemirror_mode": {
    "name": "ipython",
    "version": 3
   },
   "file_extension": ".py",
   "mimetype": "text/x-python",
   "name": "python",
   "nbconvert_exporter": "python",
   "pygments_lexer": "ipython3",
   "version": "3.11.8"
  }
 },
 "nbformat": 4,
 "nbformat_minor": 2
}
